{
 "cells": [
  {
   "cell_type": "code",
   "execution_count": 2,
   "id": "4c9236e4",
   "metadata": {},
   "outputs": [],
   "source": [
    "import pandas as pd\n",
    "import numpy as np\n",
    "import matplotlib.pyplot as plt"
   ]
  },
  {
   "cell_type": "code",
   "execution_count": 6,
   "id": "d6d34884",
   "metadata": {},
   "outputs": [
    {
     "name": "stdout",
     "output_type": "stream",
     "text": [
      "<class 'pandas.core.frame.DataFrame'>\n"
     ]
    }
   ],
   "source": [
    "data_sheet1 = pd.read_excel('../Data/tabn501.35.xls')\n",
    "print(type(data_sheet1))"
   ]
  },
  {
   "cell_type": "code",
   "execution_count": 4,
   "id": "3e8ca633",
   "metadata": {},
   "outputs": [
    {
     "name": "stdout",
     "output_type": "stream",
     "text": [
      "Requirement already satisfied: xlrd in c:\\users\\rallusso\\anaconda3\\anaconda\\envs\\disability-econ\\lib\\site-packages (2.0.1)\n"
     ]
    }
   ],
   "source": [
    "!pip install xlrd"
   ]
  },
  {
   "cell_type": "code",
   "execution_count": 7,
   "id": "8ba260fa",
   "metadata": {},
   "outputs": [
    {
     "name": "stdout",
     "output_type": "stream",
     "text": [
      "   Table 501.35. Labor force status of persons 25 to 64 years old, by disability status, highest level of educational attainment, age, sex, and \\n              race/ethnicity: 2015  \\\n",
      "0             [Standard errors appear in parentheses]                                                                                                                                  \n",
      "1                        Age, sex, and race/ethnicity                                                                                                                                  \n",
      "2                                                 NaN                                                                                                                                  \n",
      "3                                                 NaN                                                                                                                                  \n",
      "4                                                   1                                                                                                                                  \n",
      "..                                                ...                                                                                                                                  \n",
      "76  ‡Reporting standards not met. Either there are...                                                                                                                                  \n",
      "77  \\1\\Includes completion of high school through ...                                                                                                                                  \n",
      "78  \\2\\The population not in the labor force consi...                                                                                                                                  \n",
      "79  NOTE: Data are based on sample surveys of the ...                                                                                                                                  \n",
      "80  SOURCE: U.S. Department of Commerce, Census Bu...                                                                                                                                  \n",
      "\n",
      "                   Unnamed: 1 Unnamed: 2 Unnamed: 3  \\\n",
      "0                         NaN        NaN        NaN   \n",
      "1   Persons with disabilities        NaN        NaN   \n",
      "2                       Total        NaN        NaN   \n",
      "3                         NaN        NaN        NaN   \n",
      "4                           2        NaN        NaN   \n",
      "..                        ...        ...        ...   \n",
      "76                        NaN        NaN        NaN   \n",
      "77                        NaN        NaN        NaN   \n",
      "78                        NaN        NaN        NaN   \n",
      "79                        NaN        NaN        NaN   \n",
      "80                        NaN        NaN        NaN   \n",
      "\n",
      "                             Unnamed: 4 Unnamed: 5 Unnamed: 6  \\\n",
      "0                                   NaN        NaN        NaN   \n",
      "1                                   NaN        NaN        NaN   \n",
      "2   Less than high school completion\\1\\        NaN        NaN   \n",
      "3                                   NaN        NaN        NaN   \n",
      "4                                     3        NaN        NaN   \n",
      "..                                  ...        ...        ...   \n",
      "76                                  NaN        NaN        NaN   \n",
      "77                                  NaN        NaN        NaN   \n",
      "78                                  NaN        NaN        NaN   \n",
      "79                                  NaN        NaN        NaN   \n",
      "80                                  NaN        NaN        NaN   \n",
      "\n",
      "                Unnamed: 7 Unnamed: 8 Unnamed: 9  ... Unnamed: 39  \\\n",
      "0                      NaN        NaN        NaN  ...         NaN   \n",
      "1                      NaN        NaN        NaN  ...         NaN   \n",
      "2   High school completion        NaN        NaN  ...         NaN   \n",
      "3                      NaN        NaN        NaN  ...         NaN   \n",
      "4                        4        NaN        NaN  ...         NaN   \n",
      "..                     ...        ...        ...  ...         ...   \n",
      "76                     NaN        NaN        NaN  ...         NaN   \n",
      "77                     NaN        NaN        NaN  ...         NaN   \n",
      "78                     NaN        NaN        NaN  ...         NaN   \n",
      "79                     NaN        NaN        NaN  ...         NaN   \n",
      "80                     NaN        NaN        NaN  ...         NaN   \n",
      "\n",
      "                    Unnamed: 40 Unnamed: 41 Unnamed: 42        Unnamed: 43  \\\n",
      "0                           NaN         NaN         NaN                NaN   \n",
      "1                           NaN         NaN         NaN                NaN   \n",
      "2   Bachelor's or higher degree         NaN         NaN                NaN   \n",
      "3                         Total         NaN         NaN  Bachelor's degree   \n",
      "4                            15         NaN         NaN                 16   \n",
      "..                          ...         ...         ...                ...   \n",
      "76                          NaN         NaN         NaN                NaN   \n",
      "77                          NaN         NaN         NaN                NaN   \n",
      "78                          NaN         NaN         NaN                NaN   \n",
      "79                          NaN         NaN         NaN                NaN   \n",
      "80                          NaN         NaN         NaN                NaN   \n",
      "\n",
      "   Unnamed: 44 Unnamed: 45                Unnamed: 46 Unnamed: 47 Unnamed: 48  \n",
      "0          NaN         NaN                        NaN         NaN         NaN  \n",
      "1          NaN         NaN                        NaN         NaN         NaN  \n",
      "2          NaN         NaN                        NaN         NaN         NaN  \n",
      "3          NaN         NaN  Master's or higher degree         NaN         NaN  \n",
      "4          NaN         NaN                         17         NaN         NaN  \n",
      "..         ...         ...                        ...         ...         ...  \n",
      "76         NaN         NaN                        NaN         NaN         NaN  \n",
      "77         NaN         NaN                        NaN         NaN         NaN  \n",
      "78         NaN         NaN                        NaN         NaN         NaN  \n",
      "79         NaN         NaN                        NaN         NaN         NaN  \n",
      "80         NaN         NaN                        NaN         NaN         NaN  \n",
      "\n",
      "[81 rows x 49 columns]\n"
     ]
    }
   ],
   "source": [
    "print(data_sheet1)"
   ]
  },
  {
   "cell_type": "code",
   "execution_count": 8,
   "id": "344f5055",
   "metadata": {},
   "outputs": [],
   "source": [
    "disability_education_data = pd.read_excel('../Data/disability_education_data.xlsx')"
   ]
  },
  {
   "cell_type": "code",
   "execution_count": 9,
   "id": "bd377b96",
   "metadata": {},
   "outputs": [
    {
     "name": "stdout",
     "output_type": "stream",
     "text": [
      "<class 'pandas.core.frame.DataFrame'>\n"
     ]
    }
   ],
   "source": [
    "print(type(disability_education_data))"
   ]
  },
  {
   "cell_type": "code",
   "execution_count": 10,
   "id": "9d1f712c",
   "metadata": {},
   "outputs": [
    {
     "name": "stdout",
     "output_type": "stream",
     "text": [
      "     Age  Total <= Associate's  No Highschool  High school   Some College  \\\n",
      "0  Total                 14363           2782          5301          2765   \n",
      "1  25-34                  1793            301           711           393   \n",
      "2  35-44                  2195            417           799           450   \n",
      "3  45-54                  4130            848          1517           804   \n",
      "4  55-64                  6245           1216          2275          1118   \n",
      "\n",
      "   Associate's  Total >=  Bachelors  Bachelors  Masters and higher  \n",
      "0         1418                 2097       1507                 590  \n",
      "1          149                  239        189                  50  \n",
      "2          199                  330        237                  93  \n",
      "3          416                  546        413                 134  \n",
      "4          654                  982        668                 314  \n"
     ]
    }
   ],
   "source": [
    "print(disability_education_data)"
   ]
  },
  {
   "cell_type": "code",
   "execution_count": 11,
   "id": "60d1279a",
   "metadata": {},
   "outputs": [
    {
     "data": {
      "text/html": [
       "<div>\n",
       "<style scoped>\n",
       "    .dataframe tbody tr th:only-of-type {\n",
       "        vertical-align: middle;\n",
       "    }\n",
       "\n",
       "    .dataframe tbody tr th {\n",
       "        vertical-align: top;\n",
       "    }\n",
       "\n",
       "    .dataframe thead th {\n",
       "        text-align: right;\n",
       "    }\n",
       "</style>\n",
       "<table border=\"1\" class=\"dataframe\">\n",
       "  <thead>\n",
       "    <tr style=\"text-align: right;\">\n",
       "      <th></th>\n",
       "      <th>Age</th>\n",
       "      <th>Total &lt;= Associate's</th>\n",
       "      <th>No Highschool</th>\n",
       "      <th>High school</th>\n",
       "      <th>Some College</th>\n",
       "      <th>Associate's</th>\n",
       "      <th>Total &gt;=  Bachelors</th>\n",
       "      <th>Bachelors</th>\n",
       "      <th>Masters and higher</th>\n",
       "    </tr>\n",
       "  </thead>\n",
       "  <tbody>\n",
       "    <tr>\n",
       "      <th>0</th>\n",
       "      <td>Total</td>\n",
       "      <td>14363</td>\n",
       "      <td>2782</td>\n",
       "      <td>5301</td>\n",
       "      <td>2765</td>\n",
       "      <td>1418</td>\n",
       "      <td>2097</td>\n",
       "      <td>1507</td>\n",
       "      <td>590</td>\n",
       "    </tr>\n",
       "    <tr>\n",
       "      <th>1</th>\n",
       "      <td>25-34</td>\n",
       "      <td>1793</td>\n",
       "      <td>301</td>\n",
       "      <td>711</td>\n",
       "      <td>393</td>\n",
       "      <td>149</td>\n",
       "      <td>239</td>\n",
       "      <td>189</td>\n",
       "      <td>50</td>\n",
       "    </tr>\n",
       "    <tr>\n",
       "      <th>2</th>\n",
       "      <td>35-44</td>\n",
       "      <td>2195</td>\n",
       "      <td>417</td>\n",
       "      <td>799</td>\n",
       "      <td>450</td>\n",
       "      <td>199</td>\n",
       "      <td>330</td>\n",
       "      <td>237</td>\n",
       "      <td>93</td>\n",
       "    </tr>\n",
       "    <tr>\n",
       "      <th>3</th>\n",
       "      <td>45-54</td>\n",
       "      <td>4130</td>\n",
       "      <td>848</td>\n",
       "      <td>1517</td>\n",
       "      <td>804</td>\n",
       "      <td>416</td>\n",
       "      <td>546</td>\n",
       "      <td>413</td>\n",
       "      <td>134</td>\n",
       "    </tr>\n",
       "    <tr>\n",
       "      <th>4</th>\n",
       "      <td>55-64</td>\n",
       "      <td>6245</td>\n",
       "      <td>1216</td>\n",
       "      <td>2275</td>\n",
       "      <td>1118</td>\n",
       "      <td>654</td>\n",
       "      <td>982</td>\n",
       "      <td>668</td>\n",
       "      <td>314</td>\n",
       "    </tr>\n",
       "  </tbody>\n",
       "</table>\n",
       "</div>"
      ],
      "text/plain": [
       "     Age  Total <= Associate's  No Highschool  High school   Some College  \\\n",
       "0  Total                 14363           2782          5301          2765   \n",
       "1  25-34                  1793            301           711           393   \n",
       "2  35-44                  2195            417           799           450   \n",
       "3  45-54                  4130            848          1517           804   \n",
       "4  55-64                  6245           1216          2275          1118   \n",
       "\n",
       "   Associate's  Total >=  Bachelors  Bachelors  Masters and higher  \n",
       "0         1418                 2097       1507                 590  \n",
       "1          149                  239        189                  50  \n",
       "2          199                  330        237                  93  \n",
       "3          416                  546        413                 134  \n",
       "4          654                  982        668                 314  "
      ]
     },
     "metadata": {},
     "output_type": "display_data"
    }
   ],
   "source": [
    "display(disability_education_data)"
   ]
  },
  {
   "cell_type": "code",
   "execution_count": 12,
   "id": "a332f1b4",
   "metadata": {},
   "outputs": [],
   "source": [
    "disability_education_data = pd.read_excel('../Data/disability_education_data.xlsx')"
   ]
  },
  {
   "cell_type": "code",
   "execution_count": 13,
   "id": "54e77fcb",
   "metadata": {},
   "outputs": [
    {
     "data": {
      "text/html": [
       "<div>\n",
       "<style scoped>\n",
       "    .dataframe tbody tr th:only-of-type {\n",
       "        vertical-align: middle;\n",
       "    }\n",
       "\n",
       "    .dataframe tbody tr th {\n",
       "        vertical-align: top;\n",
       "    }\n",
       "\n",
       "    .dataframe thead th {\n",
       "        text-align: right;\n",
       "    }\n",
       "</style>\n",
       "<table border=\"1\" class=\"dataframe\">\n",
       "  <thead>\n",
       "    <tr style=\"text-align: right;\">\n",
       "      <th></th>\n",
       "      <th>Age</th>\n",
       "      <th>Total &lt;= Associates</th>\n",
       "      <th>No Highschool</th>\n",
       "      <th>High school</th>\n",
       "      <th>Some College</th>\n",
       "      <th>Associate's</th>\n",
       "      <th>Total &gt;=  Bachelors</th>\n",
       "      <th>Bachelors</th>\n",
       "      <th>Masters and higher</th>\n",
       "    </tr>\n",
       "  </thead>\n",
       "  <tbody>\n",
       "    <tr>\n",
       "      <th>0</th>\n",
       "      <td>Total</td>\n",
       "      <td>14363</td>\n",
       "      <td>2782</td>\n",
       "      <td>5301</td>\n",
       "      <td>2765</td>\n",
       "      <td>1418</td>\n",
       "      <td>2097</td>\n",
       "      <td>1507</td>\n",
       "      <td>590</td>\n",
       "    </tr>\n",
       "    <tr>\n",
       "      <th>1</th>\n",
       "      <td>25-34</td>\n",
       "      <td>1793</td>\n",
       "      <td>301</td>\n",
       "      <td>711</td>\n",
       "      <td>393</td>\n",
       "      <td>149</td>\n",
       "      <td>239</td>\n",
       "      <td>189</td>\n",
       "      <td>50</td>\n",
       "    </tr>\n",
       "    <tr>\n",
       "      <th>2</th>\n",
       "      <td>35-44</td>\n",
       "      <td>2195</td>\n",
       "      <td>417</td>\n",
       "      <td>799</td>\n",
       "      <td>450</td>\n",
       "      <td>199</td>\n",
       "      <td>330</td>\n",
       "      <td>237</td>\n",
       "      <td>93</td>\n",
       "    </tr>\n",
       "    <tr>\n",
       "      <th>3</th>\n",
       "      <td>45-54</td>\n",
       "      <td>4130</td>\n",
       "      <td>848</td>\n",
       "      <td>1517</td>\n",
       "      <td>804</td>\n",
       "      <td>416</td>\n",
       "      <td>546</td>\n",
       "      <td>413</td>\n",
       "      <td>134</td>\n",
       "    </tr>\n",
       "    <tr>\n",
       "      <th>4</th>\n",
       "      <td>55-64</td>\n",
       "      <td>6245</td>\n",
       "      <td>1216</td>\n",
       "      <td>2275</td>\n",
       "      <td>1118</td>\n",
       "      <td>654</td>\n",
       "      <td>982</td>\n",
       "      <td>668</td>\n",
       "      <td>314</td>\n",
       "    </tr>\n",
       "  </tbody>\n",
       "</table>\n",
       "</div>"
      ],
      "text/plain": [
       "     Age  Total <= Associates  No Highschool  High school   Some College  \\\n",
       "0  Total                14363           2782          5301          2765   \n",
       "1  25-34                 1793            301           711           393   \n",
       "2  35-44                 2195            417           799           450   \n",
       "3  45-54                 4130            848          1517           804   \n",
       "4  55-64                 6245           1216          2275          1118   \n",
       "\n",
       "   Associate's  Total >=  Bachelors  Bachelors  Masters and higher  \n",
       "0         1418                 2097       1507                 590  \n",
       "1          149                  239        189                  50  \n",
       "2          199                  330        237                  93  \n",
       "3          416                  546        413                 134  \n",
       "4          654                  982        668                 314  "
      ]
     },
     "metadata": {},
     "output_type": "display_data"
    }
   ],
   "source": [
    "display(disability_education_data)"
   ]
  },
  {
   "cell_type": "code",
   "execution_count": 15,
   "id": "ded2ad2f",
   "metadata": {},
   "outputs": [
    {
     "name": "stdout",
     "output_type": "stream",
     "text": [
      "Sum of values in column A:        28726\n",
      "Min of values in column A:        1793\n",
      "Max of values in column A:        14363\n",
      "Mean of values in column A:       5745.2\n",
      "Std. Dev. of values in column A:  5131.981897863631\n",
      "\n",
      "List unique values in column A:\n",
      "[14363  1793  2195  4130  6245]\n",
      "\n",
      "Multiple stats for values in column A:\n",
      "count        5.000000\n",
      "mean      5745.200000\n",
      "std       5131.981898\n",
      "min       1793.000000\n",
      "25%       2195.000000\n",
      "50%       4130.000000\n",
      "75%       6245.000000\n",
      "max      14363.000000\n",
      "Name: Total <= Associates, dtype: float64\n"
     ]
    }
   ],
   "source": [
    "print('Sum of values in column A:       ', disability_education_data['Total <= Associates'].sum())\n",
    "print('Min of values in column A:       ', disability_education_data['Total <= Associates'].min())\n",
    "print('Max of values in column A:       ', disability_education_data['Total <= Associates'].max())\n",
    "print('Mean of values in column A:      ', disability_education_data['Total <= Associates'].mean())\n",
    "print('Std. Dev. of values in column A: ', disability_education_data['Total <= Associates'].std())\n",
    "print('\\nList unique values in column A:')\n",
    "print(disability_education_data['Total <= Associates'].unique())\n",
    "print('\\nMultiple stats for values in column A:')\n",
    "print(disability_education_data['Total <= Associates'].describe())"
   ]
  },
  {
   "cell_type": "code",
   "execution_count": 16,
   "id": "9daefcca",
   "metadata": {},
   "outputs": [],
   "source": [
    "disability_education_data = pd.read_excel('../Data/disability_education_data.xlsx', usecols=range(1, 8))"
   ]
  },
  {
   "cell_type": "code",
   "execution_count": 21,
   "id": "479bac91",
   "metadata": {},
   "outputs": [
    {
     "name": "stdout",
     "output_type": "stream",
     "text": [
      "Sum of values in column A:        14363\n",
      "Min of values in column A:        1793\n",
      "Max of values in column A:        6245\n",
      "Mean of values in column A:       3590.75\n",
      "Std. Dev. of values in column A:  2042.5357402013801\n",
      "\n",
      "List unique values in column A:\n",
      "[1793 2195 4130 6245]\n",
      "\n",
      "Multiple stats for values in column A:\n",
      "count       4.00000\n",
      "mean     3590.75000\n",
      "std      2042.53574\n",
      "min      1793.00000\n",
      "25%      2094.50000\n",
      "50%      3162.50000\n",
      "75%      4658.75000\n",
      "max      6245.00000\n",
      "Name: Total <= Associates, dtype: float64\n"
     ]
    }
   ],
   "source": [
    "disability_education_data = pd.read_excel('../Data/disability_education_data.xlsx')\n",
    "print('Sum of values in column A:       ', disability_education_data['Total <= Associates'].sum())\n",
    "print('Min of values in column A:       ', disability_education_data['Total <= Associates'].min())\n",
    "print('Max of values in column A:       ', disability_education_data['Total <= Associates'].max())\n",
    "print('Mean of values in column A:      ', disability_education_data['Total <= Associates'].mean())\n",
    "print('Std. Dev. of values in column A: ', disability_education_data['Total <= Associates'].std())\n",
    "print('\\nList unique values in column A:')\n",
    "print(disability_education_data['Total <= Associates'].unique())\n",
    "print('\\nMultiple stats for values in column A:')\n",
    "print(disability_education_data['Total <= Associates'].describe())"
   ]
  },
  {
   "cell_type": "code",
   "execution_count": 24,
   "id": "d9ab3392",
   "metadata": {},
   "outputs": [
    {
     "name": "stdout",
     "output_type": "stream",
     "text": [
      "count       4.000000\n",
      "mean      695.500000\n",
      "std       419.272783\n",
      "min       301.000000\n",
      "25%       388.000000\n",
      "50%       632.500000\n",
      "75%       940.000000\n",
      "max      1216.000000\n",
      "Name: No Highschool, dtype: float64\n",
      "Sum of values in column B:        2782\n"
     ]
    }
   ],
   "source": [
    "print(disability_education_data['No Highschool'].describe())\n",
    "print('Sum of values in column B:       ', disability_education_data['No Highschool'].sum())"
   ]
  },
  {
   "cell_type": "code",
   "execution_count": 26,
   "id": "b801a8d9",
   "metadata": {},
   "outputs": [
    {
     "data": {
      "text/html": [
       "<div>\n",
       "<style scoped>\n",
       "    .dataframe tbody tr th:only-of-type {\n",
       "        vertical-align: middle;\n",
       "    }\n",
       "\n",
       "    .dataframe tbody tr th {\n",
       "        vertical-align: top;\n",
       "    }\n",
       "\n",
       "    .dataframe thead th {\n",
       "        text-align: right;\n",
       "    }\n",
       "</style>\n",
       "<table border=\"1\" class=\"dataframe\">\n",
       "  <thead>\n",
       "    <tr style=\"text-align: right;\">\n",
       "      <th></th>\n",
       "      <th>Age</th>\n",
       "      <th>Total &lt;= Associates</th>\n",
       "      <th>No Highschool</th>\n",
       "      <th>High school</th>\n",
       "      <th>Some College</th>\n",
       "      <th>Associates</th>\n",
       "      <th>Total &gt;=  Bachelors</th>\n",
       "      <th>Bachelors</th>\n",
       "      <th>Masters and higher</th>\n",
       "    </tr>\n",
       "  </thead>\n",
       "  <tbody>\n",
       "    <tr>\n",
       "      <th>0</th>\n",
       "      <td>25-34</td>\n",
       "      <td>1793</td>\n",
       "      <td>301</td>\n",
       "      <td>711</td>\n",
       "      <td>393</td>\n",
       "      <td>149</td>\n",
       "      <td>239</td>\n",
       "      <td>189</td>\n",
       "      <td>50</td>\n",
       "    </tr>\n",
       "    <tr>\n",
       "      <th>1</th>\n",
       "      <td>35-44</td>\n",
       "      <td>2195</td>\n",
       "      <td>417</td>\n",
       "      <td>799</td>\n",
       "      <td>450</td>\n",
       "      <td>199</td>\n",
       "      <td>330</td>\n",
       "      <td>237</td>\n",
       "      <td>93</td>\n",
       "    </tr>\n",
       "    <tr>\n",
       "      <th>2</th>\n",
       "      <td>45-54</td>\n",
       "      <td>4130</td>\n",
       "      <td>848</td>\n",
       "      <td>1517</td>\n",
       "      <td>804</td>\n",
       "      <td>416</td>\n",
       "      <td>546</td>\n",
       "      <td>413</td>\n",
       "      <td>134</td>\n",
       "    </tr>\n",
       "    <tr>\n",
       "      <th>3</th>\n",
       "      <td>55-64</td>\n",
       "      <td>6245</td>\n",
       "      <td>1216</td>\n",
       "      <td>2275</td>\n",
       "      <td>1118</td>\n",
       "      <td>654</td>\n",
       "      <td>982</td>\n",
       "      <td>668</td>\n",
       "      <td>314</td>\n",
       "    </tr>\n",
       "  </tbody>\n",
       "</table>\n",
       "</div>"
      ],
      "text/plain": [
       "     Age  Total <= Associates  No Highschool  High school   Some College  \\\n",
       "0  25-34                 1793            301           711           393   \n",
       "1  35-44                 2195            417           799           450   \n",
       "2  45-54                 4130            848          1517           804   \n",
       "3  55-64                 6245           1216          2275          1118   \n",
       "\n",
       "   Associates  Total >=  Bachelors  Bachelors  Masters and higher  \n",
       "0         149                  239        189                  50  \n",
       "1         199                  330        237                  93  \n",
       "2         416                  546        413                 134  \n",
       "3         654                  982        668                 314  "
      ]
     },
     "metadata": {},
     "output_type": "display_data"
    }
   ],
   "source": [
    "disability_education_data = pd.read_excel('../Data/disability_education_data.xlsx')\n",
    "display(disability_education_data)"
   ]
  },
  {
   "cell_type": "code",
   "execution_count": 47,
   "id": "86e67e69",
   "metadata": {},
   "outputs": [
    {
     "data": {
      "text/plain": [
       "Index(['Age', 'Total <= Associates', 'No Highschool', 'High school ',\n",
       "       'Some College', 'Associates', 'Total >=  Bachelors', 'Bachelors',\n",
       "       'Masters and higher'],\n",
       "      dtype='object')"
      ]
     },
     "execution_count": 47,
     "metadata": {},
     "output_type": "execute_result"
    }
   ],
   "source": [
    "disability_education_data.columns"
   ]
  },
  {
   "cell_type": "code",
   "execution_count": 46,
   "id": "da8e90c5",
   "metadata": {},
   "outputs": [
    {
     "name": "stdout",
     "output_type": "stream",
     "text": [
      "Sum of values in column A:        14363\n",
      "\n",
      "Multiple stats for values in column A:\n",
      "count       4.00000\n",
      "mean     3590.75000\n",
      "std      2042.53574\n",
      "min      1793.00000\n",
      "25%      2094.50000\n",
      "50%      3162.50000\n",
      "75%      4658.75000\n",
      "max      6245.00000\n",
      "Name: Total <= Associates, dtype: float64\n",
      "                                                                                                                      \n",
      "Sum of values in column B:        2782\n",
      "count       4.000000\n",
      "mean      695.500000\n",
      "std       419.272783\n",
      "min       301.000000\n",
      "25%       388.000000\n",
      "50%       632.500000\n",
      "75%       940.000000\n",
      "max      1216.000000\n",
      "Name: No Highschool, dtype: float64\n",
      "                                                                                                                      \n"
     ]
    },
    {
     "ename": "KeyError",
     "evalue": "'High school'",
     "output_type": "error",
     "traceback": [
      "\u001b[1;31m---------------------------------------------------------------------------\u001b[0m",
      "\u001b[1;31mKeyError\u001b[0m                                  Traceback (most recent call last)",
      "\u001b[1;32m~\\Anaconda3\\Anaconda\\envs\\Disability-econ\\lib\\site-packages\\pandas\\core\\indexes\\base.py\u001b[0m in \u001b[0;36mget_loc\u001b[1;34m(self, key, method, tolerance)\u001b[0m\n\u001b[0;32m   3360\u001b[0m             \u001b[1;32mtry\u001b[0m\u001b[1;33m:\u001b[0m\u001b[1;33m\u001b[0m\u001b[1;33m\u001b[0m\u001b[0m\n\u001b[1;32m-> 3361\u001b[1;33m                 \u001b[1;32mreturn\u001b[0m \u001b[0mself\u001b[0m\u001b[1;33m.\u001b[0m\u001b[0m_engine\u001b[0m\u001b[1;33m.\u001b[0m\u001b[0mget_loc\u001b[0m\u001b[1;33m(\u001b[0m\u001b[0mcasted_key\u001b[0m\u001b[1;33m)\u001b[0m\u001b[1;33m\u001b[0m\u001b[1;33m\u001b[0m\u001b[0m\n\u001b[0m\u001b[0;32m   3362\u001b[0m             \u001b[1;32mexcept\u001b[0m \u001b[0mKeyError\u001b[0m \u001b[1;32mas\u001b[0m \u001b[0merr\u001b[0m\u001b[1;33m:\u001b[0m\u001b[1;33m\u001b[0m\u001b[1;33m\u001b[0m\u001b[0m\n",
      "\u001b[1;32m~\\Anaconda3\\Anaconda\\envs\\Disability-econ\\lib\\site-packages\\pandas\\_libs\\index.pyx\u001b[0m in \u001b[0;36mpandas._libs.index.IndexEngine.get_loc\u001b[1;34m()\u001b[0m\n",
      "\u001b[1;32m~\\Anaconda3\\Anaconda\\envs\\Disability-econ\\lib\\site-packages\\pandas\\_libs\\index.pyx\u001b[0m in \u001b[0;36mpandas._libs.index.IndexEngine.get_loc\u001b[1;34m()\u001b[0m\n",
      "\u001b[1;32mpandas\\_libs\\hashtable_class_helper.pxi\u001b[0m in \u001b[0;36mpandas._libs.hashtable.PyObjectHashTable.get_item\u001b[1;34m()\u001b[0m\n",
      "\u001b[1;32mpandas\\_libs\\hashtable_class_helper.pxi\u001b[0m in \u001b[0;36mpandas._libs.hashtable.PyObjectHashTable.get_item\u001b[1;34m()\u001b[0m\n",
      "\u001b[1;31mKeyError\u001b[0m: 'High school'",
      "\nThe above exception was the direct cause of the following exception:\n",
      "\u001b[1;31mKeyError\u001b[0m                                  Traceback (most recent call last)",
      "\u001b[1;32m~\\AppData\\Local\\Temp/ipykernel_28380/1982368968.py\u001b[0m in \u001b[0;36m<module>\u001b[1;34m\u001b[0m\n\u001b[0;32m     12\u001b[0m \u001b[0mprint\u001b[0m\u001b[1;33m(\u001b[0m\u001b[1;34m'                                                                                                                      '\u001b[0m\u001b[1;33m)\u001b[0m\u001b[1;33m\u001b[0m\u001b[1;33m\u001b[0m\u001b[0m\n\u001b[0;32m     13\u001b[0m \u001b[1;33m\u001b[0m\u001b[0m\n\u001b[1;32m---> 14\u001b[1;33m \u001b[0mprint\u001b[0m\u001b[1;33m(\u001b[0m\u001b[1;34m'Sum of values in column C:       '\u001b[0m\u001b[1;33m,\u001b[0m \u001b[0mdisability_education_data\u001b[0m\u001b[1;33m[\u001b[0m\u001b[1;34m'High school'\u001b[0m\u001b[1;33m]\u001b[0m\u001b[1;33m.\u001b[0m\u001b[0msum\u001b[0m\u001b[1;33m(\u001b[0m\u001b[1;33m)\u001b[0m\u001b[1;33m)\u001b[0m\u001b[1;33m\u001b[0m\u001b[1;33m\u001b[0m\u001b[0m\n\u001b[0m\u001b[0;32m     15\u001b[0m \u001b[0mprint\u001b[0m\u001b[1;33m(\u001b[0m\u001b[0mdisability_education_data\u001b[0m\u001b[1;33m[\u001b[0m\u001b[1;34m'High school'\u001b[0m\u001b[1;33m]\u001b[0m\u001b[1;33m.\u001b[0m\u001b[0mdescribe\u001b[0m\u001b[1;33m(\u001b[0m\u001b[1;33m)\u001b[0m\u001b[1;33m)\u001b[0m\u001b[1;33m\u001b[0m\u001b[1;33m\u001b[0m\u001b[0m\n\u001b[0;32m     16\u001b[0m \u001b[1;33m\u001b[0m\u001b[0m\n",
      "\u001b[1;32m~\\Anaconda3\\Anaconda\\envs\\Disability-econ\\lib\\site-packages\\pandas\\core\\frame.py\u001b[0m in \u001b[0;36m__getitem__\u001b[1;34m(self, key)\u001b[0m\n\u001b[0;32m   3453\u001b[0m             \u001b[1;32mif\u001b[0m \u001b[0mself\u001b[0m\u001b[1;33m.\u001b[0m\u001b[0mcolumns\u001b[0m\u001b[1;33m.\u001b[0m\u001b[0mnlevels\u001b[0m \u001b[1;33m>\u001b[0m \u001b[1;36m1\u001b[0m\u001b[1;33m:\u001b[0m\u001b[1;33m\u001b[0m\u001b[1;33m\u001b[0m\u001b[0m\n\u001b[0;32m   3454\u001b[0m                 \u001b[1;32mreturn\u001b[0m \u001b[0mself\u001b[0m\u001b[1;33m.\u001b[0m\u001b[0m_getitem_multilevel\u001b[0m\u001b[1;33m(\u001b[0m\u001b[0mkey\u001b[0m\u001b[1;33m)\u001b[0m\u001b[1;33m\u001b[0m\u001b[1;33m\u001b[0m\u001b[0m\n\u001b[1;32m-> 3455\u001b[1;33m             \u001b[0mindexer\u001b[0m \u001b[1;33m=\u001b[0m \u001b[0mself\u001b[0m\u001b[1;33m.\u001b[0m\u001b[0mcolumns\u001b[0m\u001b[1;33m.\u001b[0m\u001b[0mget_loc\u001b[0m\u001b[1;33m(\u001b[0m\u001b[0mkey\u001b[0m\u001b[1;33m)\u001b[0m\u001b[1;33m\u001b[0m\u001b[1;33m\u001b[0m\u001b[0m\n\u001b[0m\u001b[0;32m   3456\u001b[0m             \u001b[1;32mif\u001b[0m \u001b[0mis_integer\u001b[0m\u001b[1;33m(\u001b[0m\u001b[0mindexer\u001b[0m\u001b[1;33m)\u001b[0m\u001b[1;33m:\u001b[0m\u001b[1;33m\u001b[0m\u001b[1;33m\u001b[0m\u001b[0m\n\u001b[0;32m   3457\u001b[0m                 \u001b[0mindexer\u001b[0m \u001b[1;33m=\u001b[0m \u001b[1;33m[\u001b[0m\u001b[0mindexer\u001b[0m\u001b[1;33m]\u001b[0m\u001b[1;33m\u001b[0m\u001b[1;33m\u001b[0m\u001b[0m\n",
      "\u001b[1;32m~\\Anaconda3\\Anaconda\\envs\\Disability-econ\\lib\\site-packages\\pandas\\core\\indexes\\base.py\u001b[0m in \u001b[0;36mget_loc\u001b[1;34m(self, key, method, tolerance)\u001b[0m\n\u001b[0;32m   3361\u001b[0m                 \u001b[1;32mreturn\u001b[0m \u001b[0mself\u001b[0m\u001b[1;33m.\u001b[0m\u001b[0m_engine\u001b[0m\u001b[1;33m.\u001b[0m\u001b[0mget_loc\u001b[0m\u001b[1;33m(\u001b[0m\u001b[0mcasted_key\u001b[0m\u001b[1;33m)\u001b[0m\u001b[1;33m\u001b[0m\u001b[1;33m\u001b[0m\u001b[0m\n\u001b[0;32m   3362\u001b[0m             \u001b[1;32mexcept\u001b[0m \u001b[0mKeyError\u001b[0m \u001b[1;32mas\u001b[0m \u001b[0merr\u001b[0m\u001b[1;33m:\u001b[0m\u001b[1;33m\u001b[0m\u001b[1;33m\u001b[0m\u001b[0m\n\u001b[1;32m-> 3363\u001b[1;33m                 \u001b[1;32mraise\u001b[0m \u001b[0mKeyError\u001b[0m\u001b[1;33m(\u001b[0m\u001b[0mkey\u001b[0m\u001b[1;33m)\u001b[0m \u001b[1;32mfrom\u001b[0m \u001b[0merr\u001b[0m\u001b[1;33m\u001b[0m\u001b[1;33m\u001b[0m\u001b[0m\n\u001b[0m\u001b[0;32m   3364\u001b[0m \u001b[1;33m\u001b[0m\u001b[0m\n\u001b[0;32m   3365\u001b[0m         \u001b[1;32mif\u001b[0m \u001b[0mis_scalar\u001b[0m\u001b[1;33m(\u001b[0m\u001b[0mkey\u001b[0m\u001b[1;33m)\u001b[0m \u001b[1;32mand\u001b[0m \u001b[0misna\u001b[0m\u001b[1;33m(\u001b[0m\u001b[0mkey\u001b[0m\u001b[1;33m)\u001b[0m \u001b[1;32mand\u001b[0m \u001b[1;32mnot\u001b[0m \u001b[0mself\u001b[0m\u001b[1;33m.\u001b[0m\u001b[0mhasnans\u001b[0m\u001b[1;33m:\u001b[0m\u001b[1;33m\u001b[0m\u001b[1;33m\u001b[0m\u001b[0m\n",
      "\u001b[1;31mKeyError\u001b[0m: 'High school'"
     ]
    }
   ],
   "source": [
    "disability_education_data = pd.read_excel('../Data/disability_education_data.xlsx')\n",
    "\n",
    "print('Sum of values in column A:       ', disability_education_data['Total <= Associates'].sum())\n",
    "print('\\nMultiple stats for values in column A:')\n",
    "print(disability_education_data['Total <= Associates'].describe())\n",
    "\n",
    "print('                                                                                                                      ')\n",
    "\n",
    "print('Sum of values in column B:       ', disability_education_data['No Highschool'].sum())\n",
    "print(disability_education_data['No Highschool'].describe())\n",
    "\n",
    "print('                                                                                                                      ')\n",
    "\n",
    "print('Sum of values in column C:       ', disability_education_data['High school'].sum())\n",
    "print(disability_education_data['High school'].describe())\n",
    "\n",
    "print('                                                                                                                      ')\n",
    "\n",
    "print('Sum of values in column D:       ', disability_education_data['Some College'].sum())\n",
    "print(disability_education_data['Some College'].describe())\n",
    "\n",
    "print('                                                                                                                      ')\n",
    "\n",
    "print('Sum of values in column E:       ', disability_education_data['Associates'].sum())\n",
    "print(disability_education_data['Associates'].describe())\n",
    "\n",
    "print('                                                                                                                      ')\n",
    "\n",
    "print('Sum of values in column F:       ', disability_education_data['Total >= Bachelors'].sum())\n",
    "print(disability_education_data['Total >= Bachelors'].describe())\n",
    "\n",
    "print('                                                                                                                      ')\n",
    "\n",
    "print('Sum of values in column G:       ', disability_education_data['Bachelors'].sum())\n",
    "print(disability_education_data['Bachelors'].describe())\n",
    "\n",
    "print('                                                                                                                      ')\n",
    "\n",
    "print('Sum of values in column H:       ', disability_education_data['Masters and higher'].sum())\n",
    "print(disability_education_data['Masters and higher'].describe())\n",
    "\n"
   ]
  },
  {
   "cell_type": "code",
   "execution_count": 33,
   "id": "ab880c1a",
   "metadata": {},
   "outputs": [
    {
     "data": {
      "text/html": [
       "<div>\n",
       "<style scoped>\n",
       "    .dataframe tbody tr th:only-of-type {\n",
       "        vertical-align: middle;\n",
       "    }\n",
       "\n",
       "    .dataframe tbody tr th {\n",
       "        vertical-align: top;\n",
       "    }\n",
       "\n",
       "    .dataframe thead th {\n",
       "        text-align: right;\n",
       "    }\n",
       "</style>\n",
       "<table border=\"1\" class=\"dataframe\">\n",
       "  <thead>\n",
       "    <tr style=\"text-align: right;\">\n",
       "      <th></th>\n",
       "      <th>Age</th>\n",
       "      <th>Total &lt;= Associates</th>\n",
       "      <th>No Highschool</th>\n",
       "      <th>High school</th>\n",
       "      <th>Some College</th>\n",
       "      <th>Associates</th>\n",
       "      <th>Total &gt;=  Bachelors</th>\n",
       "      <th>Bachelors</th>\n",
       "      <th>Masters and higher</th>\n",
       "    </tr>\n",
       "  </thead>\n",
       "  <tbody>\n",
       "    <tr>\n",
       "      <th>0</th>\n",
       "      <td>25-34</td>\n",
       "      <td>1793</td>\n",
       "      <td>301</td>\n",
       "      <td>711</td>\n",
       "      <td>393</td>\n",
       "      <td>149</td>\n",
       "      <td>239</td>\n",
       "      <td>189</td>\n",
       "      <td>50</td>\n",
       "    </tr>\n",
       "    <tr>\n",
       "      <th>1</th>\n",
       "      <td>35-44</td>\n",
       "      <td>2195</td>\n",
       "      <td>417</td>\n",
       "      <td>799</td>\n",
       "      <td>450</td>\n",
       "      <td>199</td>\n",
       "      <td>330</td>\n",
       "      <td>237</td>\n",
       "      <td>93</td>\n",
       "    </tr>\n",
       "    <tr>\n",
       "      <th>2</th>\n",
       "      <td>45-54</td>\n",
       "      <td>4130</td>\n",
       "      <td>848</td>\n",
       "      <td>1517</td>\n",
       "      <td>804</td>\n",
       "      <td>416</td>\n",
       "      <td>546</td>\n",
       "      <td>413</td>\n",
       "      <td>134</td>\n",
       "    </tr>\n",
       "    <tr>\n",
       "      <th>3</th>\n",
       "      <td>55-64</td>\n",
       "      <td>6245</td>\n",
       "      <td>1216</td>\n",
       "      <td>2275</td>\n",
       "      <td>1118</td>\n",
       "      <td>654</td>\n",
       "      <td>982</td>\n",
       "      <td>668</td>\n",
       "      <td>314</td>\n",
       "    </tr>\n",
       "  </tbody>\n",
       "</table>\n",
       "</div>"
      ],
      "text/plain": [
       "     Age  Total <= Associates  No Highschool  High school   Some College  \\\n",
       "0  25-34                 1793            301           711           393   \n",
       "1  35-44                 2195            417           799           450   \n",
       "2  45-54                 4130            848          1517           804   \n",
       "3  55-64                 6245           1216          2275          1118   \n",
       "\n",
       "   Associates  Total >=  Bachelors  Bachelors  Masters and higher  \n",
       "0         149                  239        189                  50  \n",
       "1         199                  330        237                  93  \n",
       "2         416                  546        413                 134  \n",
       "3         654                  982        668                 314  "
      ]
     },
     "metadata": {},
     "output_type": "display_data"
    }
   ],
   "source": [
    "disability_education_data = pd.read_excel('../Data/disability_education_data.xlsx')\n",
    "display(disability_education_data)\n",
    "\n"
   ]
  },
  {
   "cell_type": "code",
   "execution_count": 41,
   "id": "a9ec6c16",
   "metadata": {},
   "outputs": [
    {
     "data": {
      "text/html": [
       "<div>\n",
       "<style scoped>\n",
       "    .dataframe tbody tr th:only-of-type {\n",
       "        vertical-align: middle;\n",
       "    }\n",
       "\n",
       "    .dataframe tbody tr th {\n",
       "        vertical-align: top;\n",
       "    }\n",
       "\n",
       "    .dataframe thead th {\n",
       "        text-align: right;\n",
       "    }\n",
       "</style>\n",
       "<table border=\"1\" class=\"dataframe\">\n",
       "  <thead>\n",
       "    <tr style=\"text-align: right;\">\n",
       "      <th></th>\n",
       "      <th>Age</th>\n",
       "      <th>Total Associates</th>\n",
       "    </tr>\n",
       "  </thead>\n",
       "  <tbody>\n",
       "    <tr>\n",
       "      <th>0</th>\n",
       "      <td>25-34</td>\n",
       "      <td>1793</td>\n",
       "    </tr>\n",
       "    <tr>\n",
       "      <th>1</th>\n",
       "      <td>35-44</td>\n",
       "      <td>2195</td>\n",
       "    </tr>\n",
       "    <tr>\n",
       "      <th>2</th>\n",
       "      <td>45-54</td>\n",
       "      <td>4130</td>\n",
       "    </tr>\n",
       "    <tr>\n",
       "      <th>3</th>\n",
       "      <td>55-64</td>\n",
       "      <td>6245</td>\n",
       "    </tr>\n",
       "  </tbody>\n",
       "</table>\n",
       "</div>"
      ],
      "text/plain": [
       "     Age  Total Associates\n",
       "0  25-34              1793\n",
       "1  35-44              2195\n",
       "2  45-54              4130\n",
       "3  55-64              6245"
      ]
     },
     "metadata": {},
     "output_type": "display_data"
    },
    {
     "name": "stdout",
     "output_type": "stream",
     "text": [
      "count       4.000000\n",
      "mean      695.500000\n",
      "std       419.272783\n",
      "min       301.000000\n",
      "25%       388.000000\n",
      "50%       632.500000\n",
      "75%       940.000000\n",
      "max      1216.000000\n",
      "Name: No Highschool, dtype: float64\n"
     ]
    }
   ],
   "source": [
    "first_plot = pd.read_excel('../Data/First Plot Data.xlsx')\n",
    "display(first_plot)\n",
    "print(disability_education_data['No Highschool'].describe())"
   ]
  },
  {
   "cell_type": "code",
   "execution_count": 92,
   "id": "3331a155",
   "metadata": {},
   "outputs": [
    {
     "data": {
      "image/png": "[encoded data removed]",
      "text/plain": [
       "<Figure size 432x288 with 1 Axes>"
      ]
     },
     "metadata": {
      "needs_background": "light"
     },
     "output_type": "display_data"
    }
   ],
   "source": [
    "datasets = {}\n",
    "x = first_plot['Age'].to_list()\n",
    "y = first_plot['Total Associates'].to_list()\n",
    "    \n",
    "plt.bar(x, y)\n",
    "plt.xlabel('Age')\n",
    "plt.ylabel('# of People(In thousands)')\n",
    "\n",
    "plt.show()"
   ]
  },
  {
   "cell_type": "code",
   "execution_count": 58,
   "id": "6c34ac9e",
   "metadata": {},
   "outputs": [
    {
     "data": {
      "text/html": [
       "<div>\n",
       "<style scoped>\n",
       "    .dataframe tbody tr th:only-of-type {\n",
       "        vertical-align: middle;\n",
       "    }\n",
       "\n",
       "    .dataframe tbody tr th {\n",
       "        vertical-align: top;\n",
       "    }\n",
       "\n",
       "    .dataframe thead th {\n",
       "        text-align: right;\n",
       "    }\n",
       "</style>\n",
       "<table border=\"1\" class=\"dataframe\">\n",
       "  <thead>\n",
       "    <tr style=\"text-align: right;\">\n",
       "      <th></th>\n",
       "      <th>Age</th>\n",
       "      <th>Total &lt;= Associates</th>\n",
       "      <th>No Highschool</th>\n",
       "      <th>High school</th>\n",
       "      <th>Some College</th>\n",
       "      <th>Associates</th>\n",
       "      <th>Total &gt;=  Bachelors</th>\n",
       "      <th>Bachelors</th>\n",
       "      <th>Masters and higher</th>\n",
       "    </tr>\n",
       "  </thead>\n",
       "  <tbody>\n",
       "    <tr>\n",
       "      <th>0</th>\n",
       "      <td>25-34</td>\n",
       "      <td>1793</td>\n",
       "      <td>301</td>\n",
       "      <td>711</td>\n",
       "      <td>393</td>\n",
       "      <td>149</td>\n",
       "      <td>239</td>\n",
       "      <td>189</td>\n",
       "      <td>50</td>\n",
       "    </tr>\n",
       "    <tr>\n",
       "      <th>1</th>\n",
       "      <td>35-44</td>\n",
       "      <td>2195</td>\n",
       "      <td>417</td>\n",
       "      <td>799</td>\n",
       "      <td>450</td>\n",
       "      <td>199</td>\n",
       "      <td>330</td>\n",
       "      <td>237</td>\n",
       "      <td>93</td>\n",
       "    </tr>\n",
       "    <tr>\n",
       "      <th>2</th>\n",
       "      <td>45-54</td>\n",
       "      <td>4130</td>\n",
       "      <td>848</td>\n",
       "      <td>1517</td>\n",
       "      <td>804</td>\n",
       "      <td>416</td>\n",
       "      <td>546</td>\n",
       "      <td>413</td>\n",
       "      <td>134</td>\n",
       "    </tr>\n",
       "    <tr>\n",
       "      <th>3</th>\n",
       "      <td>55-64</td>\n",
       "      <td>6245</td>\n",
       "      <td>1216</td>\n",
       "      <td>2275</td>\n",
       "      <td>1118</td>\n",
       "      <td>654</td>\n",
       "      <td>982</td>\n",
       "      <td>668</td>\n",
       "      <td>314</td>\n",
       "    </tr>\n",
       "  </tbody>\n",
       "</table>\n",
       "</div>"
      ],
      "text/plain": [
       "     Age  Total <= Associates  No Highschool  High school   Some College  \\\n",
       "0  25-34                 1793            301           711           393   \n",
       "1  35-44                 2195            417           799           450   \n",
       "2  45-54                 4130            848          1517           804   \n",
       "3  55-64                 6245           1216          2275          1118   \n",
       "\n",
       "   Associates  Total >=  Bachelors  Bachelors  Masters and higher  \n",
       "0         149                  239        189                  50  \n",
       "1         199                  330        237                  93  \n",
       "2         416                  546        413                 134  \n",
       "3         654                  982        668                 314  "
      ]
     },
     "metadata": {},
     "output_type": "display_data"
    },
    {
     "ename": "AttributeError",
     "evalue": "'DataFrame' object has no attribute 'unique'",
     "output_type": "error",
     "traceback": [
      "\u001b[1;31m---------------------------------------------------------------------------\u001b[0m",
      "\u001b[1;31mAttributeError\u001b[0m                            Traceback (most recent call last)",
      "\u001b[1;32m~\\AppData\\Local\\Temp/ipykernel_28380/1987569223.py\u001b[0m in \u001b[0;36m<module>\u001b[1;34m\u001b[0m\n\u001b[0;32m      1\u001b[0m \u001b[0mdisplay\u001b[0m\u001b[1;33m(\u001b[0m\u001b[0mdisability_education_data\u001b[0m\u001b[1;33m)\u001b[0m\u001b[1;33m\u001b[0m\u001b[1;33m\u001b[0m\u001b[0m\n\u001b[1;32m----> 2\u001b[1;33m \u001b[0mdisability_education_data\u001b[0m\u001b[1;33m.\u001b[0m\u001b[0munique\u001b[0m\u001b[1;33m(\u001b[0m\u001b[1;33m)\u001b[0m\u001b[1;33m\u001b[0m\u001b[1;33m\u001b[0m\u001b[0m\n\u001b[0m",
      "\u001b[1;32m~\\Anaconda3\\Anaconda\\envs\\Disability-econ\\lib\\site-packages\\pandas\\core\\generic.py\u001b[0m in \u001b[0;36m__getattr__\u001b[1;34m(self, name)\u001b[0m\n\u001b[0;32m   5485\u001b[0m         ):\n\u001b[0;32m   5486\u001b[0m             \u001b[1;32mreturn\u001b[0m \u001b[0mself\u001b[0m\u001b[1;33m[\u001b[0m\u001b[0mname\u001b[0m\u001b[1;33m]\u001b[0m\u001b[1;33m\u001b[0m\u001b[1;33m\u001b[0m\u001b[0m\n\u001b[1;32m-> 5487\u001b[1;33m         \u001b[1;32mreturn\u001b[0m \u001b[0mobject\u001b[0m\u001b[1;33m.\u001b[0m\u001b[0m__getattribute__\u001b[0m\u001b[1;33m(\u001b[0m\u001b[0mself\u001b[0m\u001b[1;33m,\u001b[0m \u001b[0mname\u001b[0m\u001b[1;33m)\u001b[0m\u001b[1;33m\u001b[0m\u001b[1;33m\u001b[0m\u001b[0m\n\u001b[0m\u001b[0;32m   5488\u001b[0m \u001b[1;33m\u001b[0m\u001b[0m\n\u001b[0;32m   5489\u001b[0m     \u001b[1;32mdef\u001b[0m \u001b[0m__setattr__\u001b[0m\u001b[1;33m(\u001b[0m\u001b[0mself\u001b[0m\u001b[1;33m,\u001b[0m \u001b[0mname\u001b[0m\u001b[1;33m:\u001b[0m \u001b[0mstr\u001b[0m\u001b[1;33m,\u001b[0m \u001b[0mvalue\u001b[0m\u001b[1;33m)\u001b[0m \u001b[1;33m->\u001b[0m \u001b[1;32mNone\u001b[0m\u001b[1;33m:\u001b[0m\u001b[1;33m\u001b[0m\u001b[1;33m\u001b[0m\u001b[0m\n",
      "\u001b[1;31mAttributeError\u001b[0m: 'DataFrame' object has no attribute 'unique'"
     ]
    }
   ],
   "source": [
    "display(disability_education_data)\n",
    "disability_education_data.unique()"
   ]
  },
  {
   "cell_type": "code",
   "execution_count": 59,
   "id": "f4cca60f",
   "metadata": {},
   "outputs": [
    {
     "data": {
      "text/plain": [
       "Index(['Age', 'Total <= Associates', 'No Highschool', 'High school ',\n",
       "       'Some College', 'Associates', 'Total >=  Bachelors', 'Bachelors',\n",
       "       'Masters and higher'],\n",
       "      dtype='object')"
      ]
     },
     "execution_count": 59,
     "metadata": {},
     "output_type": "execute_result"
    }
   ],
   "source": [
    "disability_education_data.columns"
   ]
  },
  {
   "cell_type": "code",
   "execution_count": 68,
   "id": "8ce82d65",
   "metadata": {},
   "outputs": [],
   "source": [
    "first_plot = pd.read_excel('../Data/First Plot Data.xlsx')\n"
   ]
  },
  {
   "cell_type": "code",
   "execution_count": 84,
   "id": "6c72e7ad",
   "metadata": {},
   "outputs": [
    {
     "name": "stderr",
     "output_type": "stream",
     "text": [
      "C:\\Users\\RALLUSSO\\Anaconda3\\Anaconda\\envs\\Disability-econ\\lib\\site-packages\\pandas\\io\\excel\\_base.py:1272: FutureWarning: Defining usecols with out of bounds indices is deprecated and will raise a ParserError in a future version.\n",
      "  return self._reader.parse(\n"
     ]
    }
   ],
   "source": [
    "second_plot = pd.read_excel('../Data/First Plot Data.xlsx', usecols=[2,3])"
   ]
  },
  {
   "cell_type": "code",
   "execution_count": 72,
   "id": "85bd85aa",
   "metadata": {},
   "outputs": [
    {
     "data": {
      "text/html": [
       "<div>\n",
       "<style scoped>\n",
       "    .dataframe tbody tr th:only-of-type {\n",
       "        vertical-align: middle;\n",
       "    }\n",
       "\n",
       "    .dataframe tbody tr th {\n",
       "        vertical-align: top;\n",
       "    }\n",
       "\n",
       "    .dataframe thead th {\n",
       "        text-align: right;\n",
       "    }\n",
       "</style>\n",
       "<table border=\"1\" class=\"dataframe\">\n",
       "  <thead>\n",
       "    <tr style=\"text-align: right;\">\n",
       "      <th></th>\n",
       "      <th>Total Associates</th>\n",
       "    </tr>\n",
       "  </thead>\n",
       "  <tbody>\n",
       "    <tr>\n",
       "      <th>0</th>\n",
       "      <td>1793</td>\n",
       "    </tr>\n",
       "    <tr>\n",
       "      <th>1</th>\n",
       "      <td>2195</td>\n",
       "    </tr>\n",
       "    <tr>\n",
       "      <th>2</th>\n",
       "      <td>4130</td>\n",
       "    </tr>\n",
       "    <tr>\n",
       "      <th>3</th>\n",
       "      <td>6245</td>\n",
       "    </tr>\n",
       "  </tbody>\n",
       "</table>\n",
       "</div>"
      ],
      "text/plain": [
       "   Total Associates\n",
       "0              1793\n",
       "1              2195\n",
       "2              4130\n",
       "3              6245"
      ]
     },
     "metadata": {},
     "output_type": "display_data"
    }
   ],
   "source": [
    "display(second_plot)"
   ]
  },
  {
   "cell_type": "code",
   "execution_count": 82,
   "id": "ad58a524",
   "metadata": {},
   "outputs": [
    {
     "data": {
      "text/html": [
       "<div>\n",
       "<style scoped>\n",
       "    .dataframe tbody tr th:only-of-type {\n",
       "        vertical-align: middle;\n",
       "    }\n",
       "\n",
       "    .dataframe tbody tr th {\n",
       "        vertical-align: top;\n",
       "    }\n",
       "\n",
       "    .dataframe thead th {\n",
       "        text-align: right;\n",
       "    }\n",
       "</style>\n",
       "<table border=\"1\" class=\"dataframe\">\n",
       "  <thead>\n",
       "    <tr style=\"text-align: right;\">\n",
       "      <th></th>\n",
       "      <th>Age</th>\n",
       "      <th>No Highschool</th>\n",
       "    </tr>\n",
       "  </thead>\n",
       "  <tbody>\n",
       "    <tr>\n",
       "      <th>0</th>\n",
       "      <td>25-34</td>\n",
       "      <td>301</td>\n",
       "    </tr>\n",
       "    <tr>\n",
       "      <th>1</th>\n",
       "      <td>35-44</td>\n",
       "      <td>417</td>\n",
       "    </tr>\n",
       "    <tr>\n",
       "      <th>2</th>\n",
       "      <td>45-54</td>\n",
       "      <td>848</td>\n",
       "    </tr>\n",
       "    <tr>\n",
       "      <th>3</th>\n",
       "      <td>55-64</td>\n",
       "      <td>1216</td>\n",
       "    </tr>\n",
       "  </tbody>\n",
       "</table>\n",
       "</div>"
      ],
      "text/plain": [
       "     Age  No Highschool\n",
       "0  25-34            301\n",
       "1  35-44            417\n",
       "2  45-54            848\n",
       "3  55-64           1216"
      ]
     },
     "metadata": {},
     "output_type": "display_data"
    },
    {
     "data": {
      "text/plain": [
       "Index(['Age', 'No Highschool'], dtype='object')"
      ]
     },
     "execution_count": 82,
     "metadata": {},
     "output_type": "execute_result"
    }
   ],
   "source": [
    "second_plot = pd.read_excel('../Data/First Plot Data.xlsx')\n",
    "display(second_plot)\n",
    "second_plot.columns"
   ]
  },
  {
   "cell_type": "code",
   "execution_count": 91,
   "id": "bd8dc721",
   "metadata": {},
   "outputs": [
    {
     "data": {
      "text/plain": [
       "Text(0, 0.5, '# of People(In thousands)')"
      ]
     },
     "execution_count": 91,
     "metadata": {},
     "output_type": "execute_result"
    },
    {
     "data": {
      "image/png": "[encoded data removed]",
      "text/plain": [
       "<Figure size 432x288 with 1 Axes>"
      ]
     },
     "metadata": {
      "needs_background": "light"
     },
     "output_type": "display_data"
    }
   ],
   "source": [
    "second_plot = pd.read_excel('../Data/First Plot Data.xlsx')\n",
    "datasets = {}\n",
    "x = second_plot['Age'].to_list()\n",
    "y = second_plot['No Highschool'].to_list()\n",
    "    \n",
    "plt.bar(x, y)\n",
    "plt.xlabel('Age')\n",
    "plt.ylabel('# of People(In thousands)')\n"
   ]
  },
  {
   "cell_type": "code",
   "execution_count": 15,
   "id": "a851a79c",
   "metadata": {},
   "outputs": [
    {
     "data": {
      "text/plain": [
       "array([1012, 1216, 2365, 3491])"
      ]
     },
     "execution_count": 15,
     "metadata": {},
     "output_type": "execute_result"
    }
   ],
   "source": [
    "np.array(highschool) + np.array(no_highschool)"
   ]
  },
  {
   "cell_type": "code",
   "execution_count": 105,
   "id": "f1e8c6eb",
   "metadata": {},
   "outputs": [
    {
     "data": {
      "text/html": [
       "<div>\n",
       "<style scoped>\n",
       "    .dataframe tbody tr th:only-of-type {\n",
       "        vertical-align: middle;\n",
       "    }\n",
       "\n",
       "    .dataframe tbody tr th {\n",
       "        vertical-align: top;\n",
       "    }\n",
       "\n",
       "    .dataframe thead th {\n",
       "        text-align: right;\n",
       "    }\n",
       "</style>\n",
       "<table border=\"1\" class=\"dataframe\">\n",
       "  <thead>\n",
       "    <tr style=\"text-align: right;\">\n",
       "      <th></th>\n",
       "      <th>Age</th>\n",
       "      <th>Total &lt;= Associates</th>\n",
       "      <th>No Highschool</th>\n",
       "      <th>High school</th>\n",
       "      <th>Some College</th>\n",
       "      <th>Associates</th>\n",
       "      <th>Total &gt;= Bachelors</th>\n",
       "      <th>Bachelors</th>\n",
       "      <th>Masters and higher</th>\n",
       "    </tr>\n",
       "  </thead>\n",
       "  <tbody>\n",
       "    <tr>\n",
       "      <th>0</th>\n",
       "      <td>24-34</td>\n",
       "      <td>40812</td>\n",
       "      <td>3789</td>\n",
       "      <td>10161</td>\n",
       "      <td>7416</td>\n",
       "      <td>4268</td>\n",
       "      <td>15179</td>\n",
       "      <td>10579</td>\n",
       "      <td>4600</td>\n",
       "    </tr>\n",
       "    <tr>\n",
       "      <th>1</th>\n",
       "      <td>35-44</td>\n",
       "      <td>37497</td>\n",
       "      <td>4083</td>\n",
       "      <td>9512</td>\n",
       "      <td>5919</td>\n",
       "      <td>3946</td>\n",
       "      <td>14037</td>\n",
       "      <td>8690</td>\n",
       "      <td>5347</td>\n",
       "    </tr>\n",
       "    <tr>\n",
       "      <th>2</th>\n",
       "      <td>45-54</td>\n",
       "      <td>38575</td>\n",
       "      <td>3727</td>\n",
       "      <td>11294</td>\n",
       "      <td>11294</td>\n",
       "      <td>4135</td>\n",
       "      <td>13574</td>\n",
       "      <td>8653</td>\n",
       "      <td>4920</td>\n",
       "    </tr>\n",
       "    <tr>\n",
       "      <th>3</th>\n",
       "      <td>55-64</td>\n",
       "      <td>34162</td>\n",
       "      <td>2989</td>\n",
       "      <td>10267</td>\n",
       "      <td>10267</td>\n",
       "      <td>3604</td>\n",
       "      <td>11501</td>\n",
       "      <td>6817</td>\n",
       "      <td>4684</td>\n",
       "    </tr>\n",
       "  </tbody>\n",
       "</table>\n",
       "</div>"
      ],
      "text/plain": [
       "     Age  Total <= Associates  No Highschool  High school  Some College  \\\n",
       "0  24-34                40812           3789        10161          7416   \n",
       "1  35-44                37497           4083         9512          5919   \n",
       "2  45-54                38575           3727        11294         11294   \n",
       "3  55-64                34162           2989        10267         10267   \n",
       "\n",
       "   Associates  Total >= Bachelors  Bachelors  Masters and higher  \n",
       "0        4268               15179      10579                4600  \n",
       "1        3946               14037       8690                5347  \n",
       "2        4135               13574       8653                4920  \n",
       "3        3604               11501       6817                4684  "
      ]
     },
     "metadata": {},
     "output_type": "display_data"
    },
    {
     "data": {
      "text/plain": [
       "Index(['Age', 'Total <= Associates', 'No Highschool', 'High school',\n",
       "       'Some College', 'Associates', 'Total >= Bachelors', 'Bachelors',\n",
       "       'Masters and higher'],\n",
       "      dtype='object')"
      ]
     },
     "execution_count": 105,
     "metadata": {},
     "output_type": "execute_result"
    }
   ],
   "source": [
    "second_stacked = pd.read_excel('../Data/able_education_data.xlsx')\n",
    "display(second_stacked)\n",
    "second_stacked.columns"
   ]
  },
  {
   "cell_type": "code",
   "execution_count": 100,
   "id": "6af6b70b",
   "metadata": {},
   "outputs": [
    {
     "data": {
      "text/html": [
       "<div>\n",
       "<style scoped>\n",
       "    .dataframe tbody tr th:only-of-type {\n",
       "        vertical-align: middle;\n",
       "    }\n",
       "\n",
       "    .dataframe tbody tr th {\n",
       "        vertical-align: top;\n",
       "    }\n",
       "\n",
       "    .dataframe thead th {\n",
       "        text-align: right;\n",
       "    }\n",
       "</style>\n",
       "<table border=\"1\" class=\"dataframe\">\n",
       "  <thead>\n",
       "    <tr style=\"text-align: right;\">\n",
       "      <th></th>\n",
       "      <th>Age</th>\n",
       "      <th>Total Associates</th>\n",
       "      <th>Age.1</th>\n",
       "      <th>No Highschool</th>\n",
       "      <th>Age.2</th>\n",
       "      <th>High school</th>\n",
       "      <th>Age.3</th>\n",
       "      <th>Some College</th>\n",
       "      <th>Age.4</th>\n",
       "      <th>Associates</th>\n",
       "      <th>Age.5</th>\n",
       "      <th>Total &gt;=  Bachelors</th>\n",
       "      <th>Age.6</th>\n",
       "      <th>Bachelors</th>\n",
       "      <th>Age.7</th>\n",
       "      <th>Masters and higher</th>\n",
       "    </tr>\n",
       "  </thead>\n",
       "  <tbody>\n",
       "    <tr>\n",
       "      <th>0</th>\n",
       "      <td>25-34</td>\n",
       "      <td>1793</td>\n",
       "      <td>25-34</td>\n",
       "      <td>301</td>\n",
       "      <td>25-34</td>\n",
       "      <td>711</td>\n",
       "      <td>25-34</td>\n",
       "      <td>393</td>\n",
       "      <td>25-34</td>\n",
       "      <td>149</td>\n",
       "      <td>25-34</td>\n",
       "      <td>239</td>\n",
       "      <td>25-34</td>\n",
       "      <td>189</td>\n",
       "      <td>25-34</td>\n",
       "      <td>50</td>\n",
       "    </tr>\n",
       "    <tr>\n",
       "      <th>1</th>\n",
       "      <td>35-44</td>\n",
       "      <td>2195</td>\n",
       "      <td>35-44</td>\n",
       "      <td>417</td>\n",
       "      <td>35-44</td>\n",
       "      <td>799</td>\n",
       "      <td>35-44</td>\n",
       "      <td>450</td>\n",
       "      <td>35-44</td>\n",
       "      <td>199</td>\n",
       "      <td>35-44</td>\n",
       "      <td>330</td>\n",
       "      <td>35-44</td>\n",
       "      <td>237</td>\n",
       "      <td>35-44</td>\n",
       "      <td>93</td>\n",
       "    </tr>\n",
       "    <tr>\n",
       "      <th>2</th>\n",
       "      <td>45-54</td>\n",
       "      <td>4130</td>\n",
       "      <td>45-54</td>\n",
       "      <td>848</td>\n",
       "      <td>45-54</td>\n",
       "      <td>1517</td>\n",
       "      <td>45-54</td>\n",
       "      <td>804</td>\n",
       "      <td>45-54</td>\n",
       "      <td>416</td>\n",
       "      <td>45-54</td>\n",
       "      <td>546</td>\n",
       "      <td>45-54</td>\n",
       "      <td>413</td>\n",
       "      <td>45-54</td>\n",
       "      <td>134</td>\n",
       "    </tr>\n",
       "    <tr>\n",
       "      <th>3</th>\n",
       "      <td>55-64</td>\n",
       "      <td>6245</td>\n",
       "      <td>55-64</td>\n",
       "      <td>1216</td>\n",
       "      <td>55-64</td>\n",
       "      <td>2275</td>\n",
       "      <td>55-64</td>\n",
       "      <td>1118</td>\n",
       "      <td>55-64</td>\n",
       "      <td>654</td>\n",
       "      <td>55-64</td>\n",
       "      <td>982</td>\n",
       "      <td>55-64</td>\n",
       "      <td>668</td>\n",
       "      <td>55-64</td>\n",
       "      <td>314</td>\n",
       "    </tr>\n",
       "  </tbody>\n",
       "</table>\n",
       "</div>"
      ],
      "text/plain": [
       "     Age  Total Associates  Age.1  No Highschool  Age.2  High school  Age.3  \\\n",
       "0  25-34              1793  25-34            301  25-34          711  25-34   \n",
       "1  35-44              2195  35-44            417  35-44          799  35-44   \n",
       "2  45-54              4130  45-54            848  45-54         1517  45-54   \n",
       "3  55-64              6245  55-64           1216  55-64         2275  55-64   \n",
       "\n",
       "   Some College  Age.4  Associates  Age.5  Total >=  Bachelors  Age.6  \\\n",
       "0           393  25-34         149  25-34                  239  25-34   \n",
       "1           450  35-44         199  35-44                  330  35-44   \n",
       "2           804  45-54         416  45-54                  546  45-54   \n",
       "3          1118  55-64         654  55-64                  982  55-64   \n",
       "\n",
       "   Bachelors  Age.7  Masters and higher  \n",
       "0        189  25-34                  50  \n",
       "1        237  35-44                  93  \n",
       "2        413  45-54                 134  \n",
       "3        668  55-64                 314  "
      ]
     },
     "metadata": {},
     "output_type": "display_data"
    },
    {
     "data": {
      "text/plain": [
       "Index(['Age', 'Total Associates', 'Age.1', 'No Highschool', 'Age.2',\n",
       "       'High school', 'Age.3', 'Some College', 'Age.4', 'Associates', 'Age.5',\n",
       "       'Total >=  Bachelors', 'Age.6', 'Bachelors', 'Age.7',\n",
       "       'Masters and higher'],\n",
       "      dtype='object')"
      ]
     },
     "execution_count": 100,
     "metadata": {},
     "output_type": "execute_result"
    }
   ],
   "source": [
    "first_stacked = pd.read_excel('../Data/First Plot Data.xlsx')\n",
    "display(first_stacked)\n",
    "first_stacked.columns"
   ]
  },
  {
   "cell_type": "code",
   "execution_count": 22,
   "id": "9f65cd8a",
   "metadata": {},
   "outputs": [
    {
     "data": {
      "image/png": "[encoded data removed]",
      "text/plain": [
       "<Figure size 720x720 with 1 Axes>"
      ]
     },
     "metadata": {
      "needs_background": "light"
     },
     "output_type": "display_data"
    }
   ],
   "source": [
    "labels = ['25-34', '35-44', '45-54', '55-64']\n",
    "bachelors = np.array([189, 237, 413, 668])\n",
    "masters_up = np.array([50, 93, 134, 314])\n",
    "\n",
    "width = 0.35       # the width of the bars: can also be len(x) sequence\n",
    "\n",
    "fig, ax = plt.subplots(figsize = (10,10))\n",
    "\n",
    "ax.bar(labels, bachelors, width, label='Bachelors')\n",
    "ax.bar(labels, masters_up, width,\n",
    "       label='Masters and Above', bottom = bachelors)\n",
    "\n",
    "ax.set_ylabel('# of People in Thousands')\n",
    "ax.set_title('Number of People With Disabilities By Education Above Associates')\n",
    "ax.legend()\n",
    "\n",
    "plt.show()"
   ]
  },
  {
   "cell_type": "code",
   "execution_count": 18,
   "id": "50de0111",
   "metadata": {},
   "outputs": [
    {
     "data": {
      "image/png": "[encoded data removed]",
      "text/plain": [
       "<Figure size 720x720 with 1 Axes>"
      ]
     },
     "metadata": {
      "needs_background": "light"
     },
     "output_type": "display_data"
    }
   ],
   "source": [
    "first_stacked = pd.read_excel('../Data/First Plot Data.xlsx')\n",
    "\n",
    "labels = ['25-34', '35-44', '45-54', '55-64']\n",
    "no_highschool = np.array([301, 417, 848, 1216])\n",
    "highschool = np.array([711, 799, 1517, 2275])\n",
    "some_college = np.array([393, 450, 804, 1118])\n",
    "associates = np.array([149, 199, 416, 654])\n",
    "\n",
    "width = 0.35       # the width of the bars: can also be len(x) sequence\n",
    "\n",
    "fig, ax = plt.subplots(figsize = (10,10))\n",
    "\n",
    "ax.bar(labels, no_highschool, width, label='No Highschool')\n",
    "ax.bar(labels, highschool, width, label='Highschool', bottom=no_highschool)\n",
    "ax.bar(labels, some_college, width, label='Some College', bottom=highschool + no_highschool)\n",
    "ax.bar(labels, associates, width, label='Associates', bottom=some_college + highschool + no_highschool)\n",
    "\n",
    "ax.set_ylabel('# of People in Thousands')\n",
    "ax.set_title('Number of People With Disabilities By Education Below Bachelors')\n",
    "ax.legend()\n",
    "\n",
    "plt.show()"
   ]
  },
  {
   "cell_type": "code",
   "execution_count": 41,
   "id": "f6a00f07",
   "metadata": {
    "scrolled": false
   },
   "outputs": [
    {
     "data": {
      "image/png": "[encoded data removed]",
      "text/plain": [
       "<Figure size 720x720 with 1 Axes>"
      ]
     },
     "metadata": {
      "needs_background": "light"
     },
     "output_type": "display_data"
    },
    {
     "data": {
      "image/png": "[encoded data removed]",
      "text/plain": [
       "<Figure size 720x720 with 1 Axes>"
      ]
     },
     "metadata": {
      "needs_background": "light"
     },
     "output_type": "display_data"
    }
   ],
   "source": [
    "first_stacked = pd.read_excel('../Data/First Plot Data.xlsx')\n",
    "\n",
    "labels = ['25-34', '35-44', '45-54', '55-64']\n",
    "no_highschool = np.array([301, 417, 848, 1216])\n",
    "highschool = np.array([711, 799, 1517, 2275])\n",
    "some_college = np.array([393, 450, 804, 1118])\n",
    "associates = np.array([149, 199, 416, 654])\n",
    "\n",
    "width = 0.35       # the width of the bars: can also be len(x) sequence\n",
    "\n",
    "fig, ax = plt.subplots(figsize = (10,10))\n",
    "\n",
    "ax.bar(labels, no_highschool, width, label='No Highschool')\n",
    "ax.bar(labels, highschool, width, label='Highschool', bottom=no_highschool)\n",
    "ax.bar(labels, some_college, width, label='Some College', bottom=highschool + no_highschool)\n",
    "ax.bar(labels, associates, width, label='Associates', bottom=some_college + highschool + no_highschool)\n",
    "\n",
    "ax.set_ylabel('# of People in Thousands')\n",
    "ax.set_title('Number of People With Disabilities By Education Below Bachelors')\n",
    "ax.legend()\n",
    "\n",
    "plt.show()\n",
    "\n",
    "second_stacked = pd.read_excel('../Data/able_education_data.xlsx')\n",
    "\n",
    "labels = ['25-34', '35-44', '45-54', '55-64']\n",
    "no_highschool = np.array([3789, 4083, 3727, 2989])\n",
    "highschool = np.array([10161, 9512, 11294, 10267])\n",
    "some_college = np.array([7416, 5919, 11294, 10267])\n",
    "associates = np.array([4268, 3946, 4135, 3604])\n",
    "\n",
    "width = 0.35       # the width of the bars: can also be len(x) sequence\n",
    "\n",
    "fig, ax = plt.subplots(figsize = (10,10))\n",
    "\n",
    "ax.bar(labels, no_highschool, width, label='No Highschool')\n",
    "ax.bar(labels, highschool, width, label='Highschool', bottom=no_highschool)\n",
    "ax.bar(labels, some_college, width, label='Some College', bottom=highschool + no_highschool)\n",
    "ax.bar(labels, associates, width, label='Associates', bottom=some_college + highschool + no_highschool)\n",
    "\n",
    "ax.set_ylabel('# of People in Thousands')\n",
    "ax.set_title('Number of People Without Disabilities By Education Below Bachelors')\n",
    "ax.legend()\n",
    "\n",
    "plt.show()"
   ]
  },
  {
   "cell_type": "code",
   "execution_count": 40,
   "id": "1aefe149",
   "metadata": {
    "scrolled": false
   },
   "outputs": [
    {
     "data": {
      "image/png": "[encoded data removed]",
      "text/plain": [
       "<Figure size 720x720 with 1 Axes>"
      ]
     },
     "metadata": {
      "needs_background": "light"
     },
     "output_type": "display_data"
    },
    {
     "data": {
      "image/png": "[encoded data removed]",
      "text/plain": [
       "<Figure size 720x720 with 1 Axes>"
      ]
     },
     "metadata": {
      "needs_background": "light"
     },
     "output_type": "display_data"
    }
   ],
   "source": [
    "labels = ['25-34', '35-44', '45-54', '55-64']\n",
    "bachelors = np.array([189, 237, 413, 668])\n",
    "masters_up = np.array([50, 93, 134, 314])\n",
    "\n",
    "width = 0.35       # the width of the bars: can also be len(x) sequence\n",
    "\n",
    "fig, ax = plt.subplots(figsize = (10,10))\n",
    "\n",
    "ax.bar(labels, bachelors, width, label='Bachelors')\n",
    "ax.bar(labels, masters_up, width,\n",
    "       label='Masters and Above', bottom = bachelors)\n",
    "\n",
    "ax.set_ylabel('# of People in Thousands')\n",
    "ax.set_title('Number of People With Disabilities By Education Above Associates')\n",
    "ax.legend()\n",
    "\n",
    "plt.show()\n",
    "\n",
    "labels = ['25-34', '35-44', '45-54', '55-64']\n",
    "bachelors = np.array([10579, 8960, 8653, 6817])\n",
    "masters_up = np.array([4600, 5347, 4920, 4684])\n",
    "\n",
    "width = 0.35       # the width of the bars: can also be len(x) sequence\n",
    "\n",
    "fig, ax = plt.subplots(figsize = (10,10))\n",
    "\n",
    "ax.bar(labels, bachelors, width, label='Bachelors')\n",
    "ax.bar(labels, masters_up, width,\n",
    "       label='Masters and Above', bottom = bachelors)\n",
    "\n",
    "ax.set_ylabel('# of People in Thousands')\n",
    "ax.set_title('Number of People With Disabilities By Education Above Associates')\n",
    "ax.legend()\n",
    "\n",
    "plt.show()"
   ]
  },
  {
   "cell_type": "code",
   "execution_count": 44,
   "id": "89163edf",
   "metadata": {
    "scrolled": false
   },
   "outputs": [
    {
     "data": {
      "image/png": "[encoded data removed]",
      "text/plain": [
       "<Figure size 648x576 with 1 Axes>"
      ]
     },
     "metadata": {
      "needs_background": "light"
     },
     "output_type": "display_data"
    },
    {
     "data": {
      "image/png": "[encoded data removed]",
      "text/plain": [
       "<Figure size 648x576 with 1 Axes>"
      ]
     },
     "metadata": {
      "needs_background": "light"
     },
     "output_type": "display_data"
    }
   ],
   "source": [
    "data=[[\"Male\",17.9, 24.2, 36.7, 38.9],\n",
    "      [\"Female\",12.3, 19.8, 26.7, 31.9],\n",
    "     ]\n",
    "\n",
    "df=pd.DataFrame(data,columns=[\"Name\",\"No Highschool\",\"Highschool\",\"Some College\", \"Associates\"])\n",
    "df.plot(x=\"Name\", y=[\"No Highschool\",\"Highschool\",\"Some College\", \"Associates\"], kind=\"bar\",figsize=(9,8))\n",
    "ax.set_title('Number of People Without Disabilities By Education Above Associates')\n",
    "plt.show()\n",
    "#Change plots to be disability versus non, instead of male versus female\n",
    "#Also make it so that all of the plots have the same scale\n",
    "\n",
    "data=[[\"Male\",75.8, 81.1, 81.5, 87.9],\n",
    "      [\"Female\",46.5, 64.3, 71.1, 77.1],\n",
    "     ]\n",
    "\n",
    "df=pd.DataFrame(data,columns=[\"Name\",\"No Highschool\",\"Highschool\",\"Some College\", \"Associates\"])\n",
    "df.plot(x=\"Name\", y=[\"No Highschool\",\"Highschool\",\"Some College\", \"Associates\"], kind=\"bar\",figsize=(9,8))\n",
    "plt.show()\n",
    "\n",
    "age = \n",
    "percentage = "
   ]
  },
  {
   "cell_type": "code",
   "execution_count": 45,
   "id": "b422b3b5",
   "metadata": {},
   "outputs": [
    {
     "data": {
      "image/png": "[encoded data removed]",
      "text/plain": [
       "<Figure size 648x576 with 1 Axes>"
      ]
     },
     "metadata": {
      "needs_background": "light"
     },
     "output_type": "display_data"
    }
   ],
   "source": [
    "data=[[\"Able Bodied\",75.8, 81.1, 81.5, 87.9],\n",
    "      [\"Disability\",17.9, 24.2, 36.7, 38.9],\n",
    "     ]\n",
    "\n",
    "df=pd.DataFrame(data,columns=[\"Name\",\"No Highschool\",\"Highschool\",\"Some College\", \"Associates\"])\n",
    "df.plot(x=\"Name\", y=[\"No Highschool\",\"Highschool\",\"Some College\", \"Associates\"], kind=\"bar\",figsize=(9,8))\n",
    "plt.show()"
   ]
  },
  {
   "cell_type": "code",
   "execution_count": 29,
   "id": "d5008dc4",
   "metadata": {},
   "outputs": [
    {
     "data": {
      "image/png": "[encoded data removed]",
      "text/plain": [
       "<Figure size 720x720 with 1 Axes>"
      ]
     },
     "metadata": {
      "needs_background": "light"
     },
     "output_type": "display_data"
    }
   ],
   "source": [
    "labels = ['Male', 'Female']\n",
    "no_highschool = np.array([75.8, 46.5])\n",
    "highschool = np.array([81.1, 64.3])\n",
    "some_college = np.array([81.5, 71.1])\n",
    "associates = np.array([87.9, 77.1])\n",
    "\n",
    "width = 0.35       # the width of the bars: can also be len(x) sequence\n",
    "\n",
    "fig, ax = plt.subplots(figsize = (10,10))\n",
    "\n",
    "ax.bar(labels, no_highschool, width, label='No Highschool')\n",
    "ax.bar(labels, highschool, width, label='Highschool', bottom=no_highschool)\n",
    "ax.bar(labels, some_college, width, label='Some College', bottom=highschool + no_highschool)\n",
    "ax.bar(labels, associates, width, label='Associates', bottom=some_college + highschool + no_highschool)\n",
    "\n",
    "ax.set_ylabel('% of People')\n",
    "ax.set_title('Perecntage of People Without Disabilities With an Associates and Below Employed')\n",
    "ax.legend()\n",
    "\n",
    "plt.show()"
   ]
  },
  {
   "cell_type": "code",
   "execution_count": 27,
   "id": "748cdf1b",
   "metadata": {},
   "outputs": [
    {
     "data": {
      "image/png": "[encoded data removed]",
      "text/plain": [
       "<Figure size 720x720 with 1 Axes>"
      ]
     },
     "metadata": {
      "needs_background": "light"
     },
     "output_type": "display_data"
    }
   ],
   "source": [
    "labels = ['Male', 'Female']\n",
    "no_highschool = np.array([17.9, 12.3])\n",
    "highschool = np.array([24.2, 19.8])\n",
    "some_college = np.array([36.7, 26.7])\n",
    "associates = np.array([38.9, 31.9])\n",
    "\n",
    "width = 0.35       # the width of the bars: can also be len(x) sequence\n",
    "\n",
    "fig, ax = plt.subplots(figsize = (10,10))\n",
    "\n",
    "ax.bar(labels, no_highschool, width, label='No Highschool')\n",
    "ax.bar(labels, highschool, width, label='Highschool', bottom=no_highschool)\n",
    "ax.bar(labels, some_college, width, label='Some College', bottom=highschool + no_highschool)\n",
    "ax.bar(labels, associates, width, label='Associates', bottom=some_college + highschool + no_highschool)\n",
    "\n",
    "ax.set_ylabel('% of People')\n",
    "ax.set_title('Perecntage of People With Disabilities With an Associates and Below Employed')\n",
    "ax.legend()\n",
    "\n",
    "plt.show()"
   ]
  },
  {
   "cell_type": "code",
   "execution_count": 28,
   "id": "960b32a4",
   "metadata": {},
   "outputs": [
    {
     "data": {
      "image/png": "[encoded data removed]",
      "text/plain": [
       "<Figure size 720x720 with 1 Axes>"
      ]
     },
     "metadata": {
      "needs_background": "light"
     },
     "output_type": "display_data"
    }
   ],
   "source": [
    "labels = ['Male','Female']\n",
    "bachelors = np.array([45.8, 38.6])\n",
    "masters_up = np.array([52.1, 53.9])\n",
    "\n",
    "width = 0.35       # the width of the bars: can also be len(x) sequence\n",
    "\n",
    "fig, ax = plt.subplots(figsize = (10,10))\n",
    "\n",
    "ax.bar(labels, bachelors, width, label='Bachelors')\n",
    "ax.bar(labels, masters_up, width,\n",
    "       label='Masters and Above', bottom = bachelors)\n",
    "\n",
    "ax.set_ylabel('% of People')\n",
    "ax.set_title('Perecntage of People With Disabilities With a Bachelors and Up Employed')\n",
    "ax.legend()\n",
    "\n",
    "plt.show()"
   ]
  },
  {
   "cell_type": "code",
   "execution_count": 30,
   "id": "3f3aece5",
   "metadata": {},
   "outputs": [
    {
     "data": {
      "image/png": "[encoded data removed]",
      "text/plain": [
       "<Figure size 720x720 with 1 Axes>"
      ]
     },
     "metadata": {
      "needs_background": "light"
     },
     "output_type": "display_data"
    }
   ],
   "source": [
    "labels = ['Male','Female']\n",
    "bachelors = np.array([88.6, 78.6])\n",
    "masters_up = np.array([91.4, 81.3])\n",
    "\n",
    "width = 0.35       # the width of the bars: can also be len(x) sequence\n",
    "\n",
    "fig, ax = plt.subplots(figsize = (10,10))\n",
    "\n",
    "ax.bar(labels, bachelors, width, label='Bachelors')\n",
    "ax.bar(labels, masters_up, width,\n",
    "       label='Masters and Above', bottom = bachelors)\n",
    "\n",
    "ax.set_ylabel('% of People')\n",
    "ax.set_title('Perecntage of People Without Disabilities With a Bachelors and Up Employed')\n",
    "ax.legend()\n",
    "\n",
    "plt.show()"
   ]
  },
  {
   "cell_type": "code",
   "execution_count": null,
   "id": "9af22c3b",
   "metadata": {},
   "outputs": [],
   "source": []
  }
 ],
 "metadata": {
  "kernelspec": {
   "display_name": "Python 3",
   "language": "python",
   "name": "python3"
  },
  "language_info": {
   "codemirror_mode": {
    "name": "ipython",
    "version": 3
   },
   "file_extension": ".py",
   "mimetype": "text/x-python",
   "name": "python",
   "nbconvert_exporter": "python",
   "pygments_lexer": "ipython3",
   "version": "3.8.8"
  }
 },
 "nbformat": 4,
 "nbformat_minor": 5
}
